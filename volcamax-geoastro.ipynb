{
 "cells": [
  {
   "cell_type": "code",
   "execution_count": 1,
   "id": "0e23b5a6",
   "metadata": {},
   "outputs": [],
   "source": [
    "import numpy as np\n",
    "\n",
    "days2sec = 86400  # days to seconds conversion factor\n",
    "sec2yr = 3.1688087814029e-8  # seconds to year conversion factor\n",
    "r_e = 6371e3  # Earth radius [m]\n",
    "m_e = 5.972e24  # Earth mass [kg]\n",
    "G = 6.674e-11  # gravitational constant [si]\n",
    "\n",
    "# Default parameters - not affecting the outgassing rate\n",
    "cmf = 0.01  #0.358  # metal core mass fraction\n",
    "rho_l = 2800  # magma density [kg/m^3]\n",
    "dH_f = 4.5e5  # latent heat of fusion of silicate [J/kg]\n",
    "cp = 1000  # specific heat capacity of magma [J/kg/K]\n",
    "T_l = 1500  # magma temperature [K]\n",
    "\n",
    "# Recommended maximum values for heating rate and volatile contents\n",
    "q_sfc_darcy = 4e3  # surface heat flux from Darcy segregation [W/m^2]\n",
    "w_c = 2e-2  # melt carbon capacity\n",
    "w_s = 2e-2  # melt sulfur capacity"
   ]
  },
  {
   "cell_type": "code",
   "execution_count": 2,
   "id": "31cda105",
   "metadata": {},
   "outputs": [],
   "source": [
    "# Main model\n",
    "\n",
    "def surface_area(r_p=None):\n",
    "    \"\"\"\n",
    "    \n",
    "    \"\"\"\n",
    "    return 4 * np.pi * r_p ** 2  # planet surface area [m^2]\n",
    "                 \n",
    "                 \n",
    "def surface_gravity(r_p, m_p):\n",
    "    \"\"\"\n",
    "    \n",
    "    \"\"\"\n",
    "    return G * m_p / r_p ** 2  # surface gravity [m/s^2]\n",
    "                 \n",
    "\n",
    "def planet_equilibrium_temperature(s=1, L_star=None, r_star=None, T_star=5778, albedo=0.3, **kwargs):\n",
    "    \"\"\"\n",
    "    \n",
    "    \"\"\"\n",
    "    d = s * 1.496e11  # semi-major axis, convert AU [m]\n",
    "    if L_star is None:\n",
    "        # Calculate from radius and effective temperature\n",
    "        assert r_star and T_star, 'Need L_star or both r_star and T_star to calculate planetary equilibrium temperature.'\n",
    "        r_s = r_star * 696340e3  # star radius, convert solar radii [m]\n",
    "        T_eq = T_star * (1 - albedo) ** 0.25 * np.sqrt(r_s / (2 * d))  # planet equilibrium temperature [K]\n",
    "    else:\n",
    "        L = L_star * 3828e26  # convert to W\n",
    "        sigma = 5.670374419e-8  # Stefan-Boltzmann constant [W/m^2/K^4]\n",
    "        T_eq = (L * (1 - albedo)/(16 *sigma * np.pi * s**2)) ** (1/4)\n",
    "    return T_eq\n",
    "                 \n",
    "                 \n",
    "def quick_tidal_heating(r_p, period, ecc, imag_k2_min=-0.3):\n",
    "    \"\"\"\n",
    "    \n",
    "    \"\"\"\n",
    "    freq = 2 * np.pi / (period * days2sec)\n",
    "    power = -21/2 * imag_k2_min * (freq * r_p) ** 5 / G * ecc ** 2  # [W]\n",
    "    return power  # [W]\n",
    "\n",
    "\n",
    "def quick_radiogenic_heating(age, m_mantle, x_rprocess=3):\n",
    "    \"\"\"\n",
    "    \n",
    "    \"\"\"\n",
    "    # Radioisotope defaults using O'Neill+ 2020 SSR equation (1) - [40K, 238U, 235U, 232Th]\n",
    "    tau_i = np.array([1250, 4468, 703.8, 14050])  # half life in Myr\n",
    "    h_i = np.array([28.761e-6, 94.946e-6, 568.402e-6, 26.368e-6])  # heat production in W/kg\n",
    "    c_i = np.array([30.4e-9, 22.7e-9, 0.16e-9, 85e-9])  # BSE concentration in kg/kg\n",
    "    \n",
    "    age_Myr = age * 1e3\n",
    "    h_K = np.array(c_i[0] * h_i[0] * np.exp((4.5e3 - age_Myr) * np.log(2) / tau_i[0]))  # potassium\n",
    "    h_UTh = np.array(sum(c_i[1:] * h_i[1:] * np.exp((4.5e3 - age_Myr) * np.log(2) / tau_i[1:])))  # U and Th\n",
    "    return (h_K + x_rprocess * h_UTh) * m_mantle  # [W]\n",
    "                 \n",
    "                 \n",
    "def melt_mass_flux(q_s=None, sa_p=None, dH_f=None, cp=None, T_l=None, T_s=None, f_a=1, verbose=False, **kwargs):\n",
    "    \"\"\"\n",
    "    \n",
    "    \"\"\"\n",
    "    q_a = f_a * q_s  # advective heat flux [W m^-2]\n",
    "    f_melt = q_a * sa_p / (dH_f + cp * (T_l - T_s))  # rate of magma supply to the surface in kg/s\n",
    "    return f_melt\n",
    "\n",
    "\n",
    "def min_initial_volatiles(f_vol, m_mantle, age):\n",
    "    \"\"\"\n",
    "    \n",
    "    \"\"\"\n",
    "    f_vol_cumulative = f_vol * age * 1e9 / sec2yr  # [kg]\n",
    "    mass_frac_volatiles = f_vol_cumulative / m_mantle\n",
    "    return mass_frac_volatiles"
   ]
  },
  {
   "cell_type": "markdown",
   "id": "3084f2fe",
   "metadata": {},
   "source": [
    "STEP 0: Enter planet parameters"
   ]
  },
  {
   "cell_type": "code",
   "execution_count": 25,
   "id": "aca429b2",
   "metadata": {},
   "outputs": [],
   "source": [
    "L 98-59 b\n",
    "\n",
    "r_p = 0.837  # planet radius [R_Earth]\n",
    "m_p = 0.46  # planet mass [M_Earth]\n",
    "age = 4.94  # system age [Gyr]\n",
    "period = 2.271  # orbital period [days]\n",
    "ecc = 0.167  # orbital eccentricity\n",
    "sma = 0.0223  # semi-major axis [AU]\n",
    "r_star = 0.3155  # stellar radius [R_Sun]\n",
    "T_star = 3340  # stellar effective temperature [K]\n",
    "\n",
    "sa_p = surface_area(r_p * r_e)\n",
    "g_s = surface_gravity(r_p * r_e, m_p * m_e)\n",
    "T_s = planet_equilibrium_temperature(sma, r_star=r_star, T_star=T_star)\n",
    "\n",
    "# LTT 1445A b\n",
    "\n",
    "# r_p = 1.18  # planet radius [R_Earth]\n",
    "# m_p = (r_p * r_e * 1e-3 / (7030 - 1840 * cmf)) ** (1/0.282)  # planet mass [M_Earth]\n",
    "# age = 5 # system age [Gyr] - UNKNOWN\n",
    "# period = 5.35876  # orbital period [days]\n",
    "# ecc = 0.19  # orbital eccentricity\n",
    "# sma = 0.022  # semi-major axis [AU]\n",
    "# r_star = 0.271  # stellar radius [R_Sun]\n",
    "# T_star = 3415  # stellar effective temperature [K]\n",
    "\n",
    "# # TOI 431 b\n",
    "\n",
    "# period = 0.490047\n",
    "# r_p = 1.28\n",
    "# m_p = 3.07\n",
    "# age = 5  # unknown\n",
    "# ecc = 0\n",
    "# sma = 0.0113\n",
    "# T_star = 4850\n",
    "# r_star = 0.731\n",
    "\n",
    "# # LHS 1478 b\n",
    "\n",
    "# period = 1.9495378\n",
    "# r_p = 1.242\n",
    "# m_p = 2.33\n",
    "# age = 5  # unknown\n",
    "# ecc = 0\n",
    "# sma = 0.01848\n",
    "# T_star = 3381\n",
    "# r_star = 0.246\n",
    "\n",
    "# sa_p = surface_area(r_p * r_e)\n",
    "# g_s = surface_gravity(r_p * r_e, m_p * m_e)\n",
    "# T_s = planet_equilibrium_temperature(sma, r_star=r_star, T_star=T_star)\n",
    "# m_mantle = m_p * m_e * (1 - cmf)"
   ]
  },
  {
   "cell_type": "markdown",
   "id": "8321a9ab",
   "metadata": {},
   "source": [
    "STEP 1: Can tidal heating be noticeable?"
   ]
  },
  {
   "cell_type": "code",
   "execution_count": 26,
   "id": "18e5a8fc",
   "metadata": {},
   "outputs": [
    {
     "name": "stdout",
     "output_type": "stream",
     "text": [
      "Using maximum radiogenic heating = 7.42e-02 W/m^2\n"
     ]
    }
   ],
   "source": [
    "# Estimate surface heat flux due to tidal heating\n",
    "q_s_tides = quick_tidal_heating(r_p * r_e, period, ecc, imag_k2_min=-0.3) / surface_area(r_p * r_e)  # [W/m^2]\n",
    "q_s_rad = quick_radiogenic_heating(age, m_mantle) / sa_p  # [W/m^2]\n",
    "\n",
    "if q_s_tides > q_s_rad:\n",
    "    # Limit heating rate to <40% melt fraction\n",
    "    q_s_max = np.minimum(q_s_tides, q_sfc_darcy)\n",
    "    print('Strong tidal heating possible = {:.2e} W/m^2'.format(q_s_max))\n",
    "    \n",
    "else:\n",
    "    q_s_max = q_s_rad\n",
    "    print('Using maximum radiogenic heating = {:.2e} W/m^2'.format(q_s_rad))"
   ]
  },
  {
   "cell_type": "markdown",
   "id": "4ca37d99",
   "metadata": {},
   "source": [
    "STEP 2: Estimate maximum outgassing flux"
   ]
  },
  {
   "cell_type": "code",
   "execution_count": 27,
   "id": "feb5ce27",
   "metadata": {},
   "outputs": [
    {
     "name": "stdout",
     "output_type": "stream",
     "text": [
      "Maximum carbon outgassing = 8.30e+05 kg/s\n",
      "Maximum sulfur outgassing = 8.30e+05 kg/s\n",
      "Maximum resurfacing rate = 1.88e-11 m/s = 4.68e+02 km^3/yr\n"
     ]
    }
   ],
   "source": [
    "f_melt_max = melt_mass_flux(q_s_max, sa_p, dH_f, cp, T_l, T_s)\n",
    "f_carbon = f_melt_max * w_c\n",
    "f_sulfur = f_melt_max * w_s\n",
    "\n",
    "print('Maximum carbon outgassing = {:.2e} kg/s'.format(f_carbon))\n",
    "print('Maximum sulfur outgassing = {:.2e} kg/s'.format(f_sulfur))\n",
    "print('Maximum resurfacing rate = {:.2e} m/s = {:.2e} km^3/yr'.format(f_melt_max / sa_p / rho_l, \n",
    "                                                                      f_melt_max / rho_l / sec2yr * 1e-9))"
   ]
  },
  {
   "cell_type": "markdown",
   "id": "1d7f9608",
   "metadata": {},
   "source": [
    "STEP 3: Check supply limit"
   ]
  },
  {
   "cell_type": "code",
   "execution_count": 21,
   "id": "89786910",
   "metadata": {},
   "outputs": [
    {
     "name": "stdout",
     "output_type": "stream",
     "text": [
      "Minimum initial S in bulk silicate planet = 0.414%\n"
     ]
    }
   ],
   "source": [
    "s_ini = min_initial_volatiles(f_sulfur, m_p * m_e * (1 - cmf), age)\n",
    "\n",
    "print('Minimum initial S in bulk silicate planet = {:.3f}%'.format(s_ini * 100))"
   ]
  },
  {
   "cell_type": "code",
   "execution_count": null,
   "id": "b5cc311f",
   "metadata": {},
   "outputs": [],
   "source": []
  },
  {
   "cell_type": "code",
   "execution_count": null,
   "id": "964271cf",
   "metadata": {},
   "outputs": [],
   "source": []
  }
 ],
 "metadata": {
  "kernelspec": {
   "display_name": "Python 3 (ipykernel)",
   "language": "python",
   "name": "python3"
  },
  "language_info": {
   "codemirror_mode": {
    "name": "ipython",
    "version": 3
   },
   "file_extension": ".py",
   "mimetype": "text/x-python",
   "name": "python",
   "nbconvert_exporter": "python",
   "pygments_lexer": "ipython3",
   "version": "3.8.10"
  }
 },
 "nbformat": 4,
 "nbformat_minor": 5
}
